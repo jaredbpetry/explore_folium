{
 "cells": [
  {
   "cell_type": "markdown",
   "metadata": {},
   "source": [
    "## Creating an Interactive Map using Folium\n",
    "\n",
    "Learn with us as we explore this cool python library called Folium.  \n",
    "\n",
    "Folium is built on a library called Leaflet.  \n",
    "\n",
    "Leaflet is an open-source, JavaScript library that is very useful for making interactive maps.  \n",
    "\n",
    "Folium was designed as a way for python users to make these maps through Leaflet.\n",
    "\n",
    "\n",
    "### Here we will upload the libraries that you will need to create an interactive map \n",
    "\n",
    "In this example, we needed pandas and folium. With our specific dataset, we also needed to use datetime for some date formatting."
   ]
  },
  {
   "cell_type": "code",
   "execution_count": null,
   "metadata": {},
   "outputs": [],
   "source": [
    "#where we imported stuff "
   ]
  },
  {
   "cell_type": "markdown",
   "metadata": {},
   "source": [
    "### Then we read in the data, and clean it up a little bit\n",
    "\n",
    "We used some publicly available, geospatial data on groundwater wells in the Santa Barbara area.  \n",
    "\n",
    "We also made a subset of our dataset containing the variables that we need for the map we would like to create.\n",
    "\n",
    "We wanted to display the year the wells were completed on our map, so we used datetime $figure out the code chunk formatting to make these look cool$ to (pull out the year from the date?)"
   ]
  },
  {
   "cell_type": "code",
   "execution_count": null,
   "metadata": {},
   "outputs": [],
   "source": [
    "#read in the data and create subset and get the year dialed "
   ]
  },
  {
   "cell_type": "markdown",
   "metadata": {},
   "source": [
    "### Next, we will have to initialize the map with the \"starting coordinates.\"  \n",
    "\n",
    "This dictates where the map will open up to by default."
   ]
  },
  {
   "cell_type": "code",
   "execution_count": null,
   "metadata": {},
   "outputs": [],
   "source": [
    "#initialize the map"
   ]
  },
  {
   "cell_type": "markdown",
   "metadata": {},
   "source": [
    "### Time for the fun part: make that map\n",
    "\n",
    "Here we used a for loop that takes our latitudes and longitudes and feeds them into the folium.Marker() function.\n",
    "\n",
    "This will plot the points we are interested in on our map."
   ]
  },
  {
   "cell_type": "code",
   "execution_count": null,
   "metadata": {},
   "outputs": [],
   "source": []
  }
 ],
 "metadata": {
  "kernelspec": {
   "display_name": "Python 3.10.5 64-bit",
   "language": "python",
   "name": "python3"
  },
  "language_info": {
   "name": "python",
   "version": "3.10.5"
  },
  "orig_nbformat": 4,
  "vscode": {
   "interpreter": {
    "hash": "aee8b7b246df8f9039afb4144a1f6fd8d2ca17a180786b69acc140d282b71a49"
   }
  }
 },
 "nbformat": 4,
 "nbformat_minor": 2
}
